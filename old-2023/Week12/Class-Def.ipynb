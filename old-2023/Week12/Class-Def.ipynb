{
 "cells": [
  {
   "cell_type": "markdown",
   "id": "8476101f-17b8-4082-b1a9-bd67fd5100ba",
   "metadata": {},
   "source": [
    "# Notes"
   ]
  },
  {
   "cell_type": "code",
   "execution_count": 35,
   "id": "ccbf7b94-04ab-44b3-8800-63bc19be9da1",
   "metadata": {},
   "outputs": [
    {
     "name": "stdout",
     "output_type": "stream",
     "text": [
      "Buddy\n",
      "DSL,66\n",
      "Cable (slow),350\n",
      "Cable (typical),500\n",
      "Cable (fast),800\n",
      "15.6\n"
     ]
    }
   ],
   "source": [
    "using System.IO;\n",
    "\n",
    "public class Dog\n",
    "{\n",
    "    public string name;\n",
    "    public Dog (string n)\n",
    "    {\n",
    "        name = n;\n",
    "    }\n",
    "}\n",
    "Dog b = new Dog(\"Buddy\");\n",
    "Console.WriteLine(b.name);\n",
    "\n",
    "string line;\n",
    "string file=\"services.txt\";\n",
    "StreamReader sr = new StreamReader(file);\n",
    "line = sr.ReadLine();\n",
    "while (line != null)\n",
    "{\n",
    "    Console.WriteLine(line);\n",
    "    line = sr.ReadLine();\n",
    "}\n",
    "sr.Close();\n",
    "\n",
    "double x = Convert.ToDouble(\"15.6\");\n",
    "Console.WriteLine(x);"
   ]
  },
  {
   "cell_type": "markdown",
   "id": "a2723b30-426c-4db6-874c-16c3a44631e5",
   "metadata": {},
   "source": [
    "# Assignment\n",
    "Define a class called \"Service\" that stores the name and the speed of internet services as properties. The class needs to have a \"constructor\", \n",
    "a method with the same name as the class which stores these values when an object is created. The class needs a second method called \"Report\" that takes two\n",
    "strings as input, and prints a combination of these prompts and the name and speed of the service.\n",
    "\n",
    "Your script then needs to read the \"services.txt\" file line-by-line and create a Service object for each one. Once the file is read, loop over all\n",
    "created Service objects and call the Report method for each one.\n",
    "\n",
    "Specifics:\n",
    "- Create the class\n",
    "    - The name and speed of the service are non-public properties of the class\n",
    "        - Name is a string\n",
    "        - Speed is a double\n",
    "    - The conctructor takes a single string argument which contains one line from the input file\n",
    "        - Use Split to separate the string\n",
    "        - Store the name\n",
    "        - Convert the speed to double and store it\n",
    "    - The Report method has two string arguments\n",
    "        - Print the 1st string, then the service name, then the 2nd string, then the speed, all separated by a space\n",
    "- Define an array\n",
    "    - Create an array of type Service; give it more elements than needed (lines in the file)\n",
    "- Read the file\n",
    "    - For each line create a new Service object\n",
    "    - Keep track of the number of objects you have created\n",
    "- Create the output\n",
    "    - Loop over all objects you created\n",
    "        - Option 1: loop from 0 to the last index you used\n",
    "        - Option 2: loop over all elements in the array, stop when an element has the value \"null\"\n",
    "    - Call the Report method for each object, using the two string arguments to produce user-friendly output\n",
    "## Sample Output\n",
    "```\n",
    "The Service DSL has a typical speed of 66 Mbps\n",
    "The Service Cable (slow) has a typical speed of 350 Mbps\n",
    "The Service Cable (typical) has a typical speed of 500 Mbps\n",
    "The Service Cable (fast) has a typical speed of 800 Mbps\n",
    "```\n",
    "In this example \"The Service\" was my 1st argument to Report, and \"has a typical speed of\" was the 2nd. \n",
    "This is only an example, you can choose your own wording."
   ]
  },
  {
   "cell_type": "code",
   "execution_count": null,
   "id": "13103e00-1b45-4d4a-988d-fa8f5eee18ee",
   "metadata": {},
   "outputs": [],
   "source": [
    "using System.IO;\n",
    "//\n",
    "public class Service\n",
    "{\n",
    "}\n",
    "//\n"
   ]
  }
 ],
 "metadata": {
  "kernelspec": {
   "display_name": ".NET (C#)",
   "language": "C#",
   "name": ".net-csharp"
  },
  "language_info": {
   "file_extension": ".cs",
   "mimetype": "text/x-csharp",
   "name": "C#",
   "pygments_lexer": "csharp",
   "version": "11.0"
  }
 },
 "nbformat": 4,
 "nbformat_minor": 5
}
