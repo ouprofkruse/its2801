{
 "cells": [
  {
   "cell_type": "markdown",
   "id": "0fc2b58c-ffe7-4f74-a297-bad8871835ee",
   "metadata": {},
   "source": [
    "# Notes"
   ]
  },
  {
   "cell_type": "code",
   "execution_count": null,
   "id": "3b846c06-d742-45ed-9878-d6c713a537aa",
   "metadata": {},
   "outputs": [],
   "source": [
    "string s = \"a,b,c\";\n",
    "string[] se = s.Split(\",\");\n",
    "Console.WriteLine(se.Length);\n",
    "//\n",
    "try\n",
    "{\n",
    "    string ins = \"55x\";\n",
    "    Console.WriteLine(Convert.ToInt32(ins));\n",
    "}\n",
    "catch (FormatException)\n",
    "{\n",
    "    Console.WriteLine(\"Not a number\");\n",
    "}\n"
   ]
  },
  {
   "cell_type": "markdown",
   "id": "9cce29f2-9a41-4a57-b9ed-11149a1ced35",
   "metadata": {},
   "source": [
    "# Assignment\n",
    "Note: you will find the file IPs.txt in the same folder as this notebook. Make sure to copy it to your working folder.\n",
    "The IPs.txt file contains a number of IPv4 addresses, one per line.\n",
    "- Read the file one line at a time\n",
    "- For each line, determine if the IP address is valid:\n",
    "    - There must be exactly 4 non-empty parts in the address, separated by period ('.') characters\n",
    "    - Each part of the address must be an integer\n",
    "    - Each number in the address must be in the range 0 to 255 (inclusive)\n",
    "- if the address is valid, output the IP address and the phrase \"is valid\"\n",
    "- if the address is invalid, output the IP address and either\n",
    "    - \"invalid - non-numeric address\" (this includes an empty part), or\n",
    "    - \"invalid - value out of range\"\n",
    "    - depending on the error you detected\n",
    "## Structure\n",
    "- Write the code that loops over the file in your main script\n",
    "- Put all tests of the IP addresses into a function\n",
    "    - The function needs to return the result of the test; your choice how to do that\n",
    "        - You can return the message string (the valid, non-number, out-of-range ones)\n",
    "        - You can return a number (e.g., 0 is valid, 1 is non-number, 2 is out of range)\n",
    "    - Output is produced in the main script"
   ]
  },
  {
   "cell_type": "markdown",
   "id": "da5e2eda-e195-4bd4-9232-ca33489c7b06",
   "metadata": {},
   "source": [
    "# Your Code"
   ]
  },
  {
   "cell_type": "code",
   "execution_count": null,
   "id": "738240e6-6cfb-4633-a8b1-3ab82108fa5e",
   "metadata": {},
   "outputs": [],
   "source": []
  }
 ],
 "metadata": {
  "kernelspec": {
   "display_name": ".NET (C#)",
   "language": "C#",
   "name": ".net-csharp"
  },
  "language_info": {
   "file_extension": ".cs",
   "mimetype": "text/x-csharp",
   "name": "C#",
   "pygments_lexer": "csharp",
   "version": "11.0"
  }
 },
 "nbformat": 4,
 "nbformat_minor": 5
}
