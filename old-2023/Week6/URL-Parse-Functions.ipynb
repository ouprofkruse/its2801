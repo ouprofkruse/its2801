{
 "cells": [
  {
   "cell_type": "markdown",
   "id": "c830ca70-4cf5-46c4-b7d1-3ce603b2e529",
   "metadata": {},
   "source": [
    "# Practice"
   ]
  },
  {
   "cell_type": "code",
   "execution_count": null,
   "id": "d4b7aa41-c5a1-4ddc-8af7-5960e3f4f705",
   "metadata": {},
   "outputs": [],
   "source": [
    "from math import pi\n",
    "def area(circ_radius):\n",
    "    circ_area=pi*circ_radius*circ_radius\n",
    "    return circ_area\n",
    "\n",
    "print(area(2))\n"
   ]
  },
  {
   "cell_type": "markdown",
   "id": "4f09a1d9-87e7-4e8c-a46d-4a348280ecfa",
   "metadata": {},
   "source": [
    "---\n",
    "# Assignment\n",
    "In this script you will clean up and structure your code for parsing the portions of URLs. We will use the same input file as before, but your code needs to work for any URL.\n",
    "- Define 4 functions, one each for:\n",
    "    - scheme\n",
    "    - host\n",
    "    - path\n",
    "    - query\n",
    "- In your main script:\n",
    "    - Get a one word input from the user indicating which URL part the want to have printed\n",
    "        - E.g., you could ask the user to type \"scheme\" or \"host\" or \"path\" or \"query\", or ask them to type something shorter, like \"s\", \"h\", \"p\", or \"q\"\n",
    "    - Validate the output and ask again if the user typed something other than one of the 4 options\n",
    "    - Open the file\n",
    "    - Loop over the URLs\n",
    "        - For each URL call the requested function, and print both the URL and the result\n",
    "            - Bonus: print only if the URL contained the requested part\n",
    "    - Close the file"
   ]
  },
  {
   "cell_type": "markdown",
   "id": "a0fbafaf-a4dd-4d30-8ad4-0671ad1bbaf1",
   "metadata": {},
   "source": [
    "# Note\n",
    "It makes a lot of sense to write the functions and the main script all in separate cells, and I recommend to do that.\n",
    "However, make sure you run each cell or you may get errors in the main script about a function being undefined."
   ]
  },
  {
   "cell_type": "code",
   "execution_count": null,
   "id": "d2242e12-bcce-4ce6-b985-0cf149228b3c",
   "metadata": {},
   "outputs": [],
   "source": [
    "# Define a function to extract and return the scheme of a URL"
   ]
  },
  {
   "cell_type": "code",
   "execution_count": null,
   "id": "ff2533be-e0ee-4a83-bad4-650200f75875",
   "metadata": {},
   "outputs": [],
   "source": [
    "# Define a function to extract and return the host of a URL"
   ]
  },
  {
   "cell_type": "code",
   "execution_count": null,
   "id": "7eb38c36-974d-442a-a6cd-7192bd2b77e1",
   "metadata": {},
   "outputs": [],
   "source": [
    "# Define a function to extract and return the path of a URL"
   ]
  },
  {
   "cell_type": "code",
   "execution_count": null,
   "id": "227654e1-e813-42c7-94d0-7bf69eda8f29",
   "metadata": {},
   "outputs": [],
   "source": [
    "# Define a function to extract and return the query of a URL"
   ]
  },
  {
   "cell_type": "code",
   "execution_count": 4,
   "id": "a2161c19-0e18-47ad-a749-9007e34089c9",
   "metadata": {},
   "outputs": [],
   "source": [
    "# Write the main script here:\n",
    "\n",
    "# Get input from the user\n",
    "# Check that the input is one of the valid options, if not ask again\n",
    "\n",
    "# Open the file\n",
    "\n",
    "# Loop over the file; in each iteration call the correct function\n",
    "# Print both the URL and the requested part\n",
    "# Optional: print only if the part exists\n",
    "\n",
    "# Close the file"
   ]
  }
 ],
 "metadata": {
  "kernelspec": {
   "display_name": "Python 3 (ipykernel)",
   "language": "python",
   "name": "python3"
  },
  "language_info": {
   "codemirror_mode": {
    "name": "ipython",
    "version": 3
   },
   "file_extension": ".py",
   "mimetype": "text/x-python",
   "name": "python",
   "nbconvert_exporter": "python",
   "pygments_lexer": "ipython3",
   "version": "3.10.6"
  }
 },
 "nbformat": 4,
 "nbformat_minor": 5
}
