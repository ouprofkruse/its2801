{
 "cells": [
  {
   "cell_type": "markdown",
   "id": "cb99e2cd-2780-40dd-90c9-102d51c3e5a8",
   "metadata": {},
   "source": [
    "# Assignment\n",
    "The code cell below defines the variables Side1, Side2, and Side3. These are the 3 sides of a box. We want the box resting on its largest surfgace, with the widest side facing us.\n",
    "You need to:\n",
    "- Define the variables Width, Depth, and Height.\n",
    "    - Width needs to be the largest value of the 3 sides,\n",
    "    - Depth is the second largest side, and\n",
    "    - Height is the smallest side.\n",
    "    \n",
    "Output statements for the sides are already in the code cell.\n",
    "Add output statements that show:\n",
    "- the area of the front surface\n",
    "- the area of the side surface\n",
    "- the area of the top surface\n",
    "- the volume of the box\n",
    "\n"
   ]
  },
  {
   "cell_type": "code",
   "execution_count": null,
   "id": "3a34ccf5-ac74-414f-baee-62d2736ae71a",
   "metadata": {},
   "outputs": [],
   "source": [
    "// define the input variables\n",
    "double Side1 = 1.0;\n",
    "double Side2 = 9.0;\n",
    "double Side3 = 3.0;\n",
    "\n",
    "// your code goes here\n",
    "\n",
    "// Output the result (note: you need to at least declare Width, Depth, and Height before this will run\n",
    "Console.Write(Width);\n",
    "Console.Write('x');\n",
    "Console.Write(Depth);\n",
    "Console.Write('x');\n",
    "Console.Write(Height);\n"
   ]
  }
 ],
 "metadata": {
  "kernelspec": {
   "display_name": ".NET (C#)",
   "language": "C#",
   "name": ".net-csharp"
  },
  "language_info": {
   "file_extension": ".cs",
   "mimetype": "text/x-csharp",
   "name": "C#",
   "pygments_lexer": "csharp",
   "version": "11.0"
  }
 },
 "nbformat": 4,
 "nbformat_minor": 5
}
