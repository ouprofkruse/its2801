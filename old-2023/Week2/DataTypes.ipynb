{
 "cells": [
  {
   "cell_type": "markdown",
   "id": "6d1d20fd-e154-48f0-9d7a-211776ac1b29",
   "metadata": {
    "tags": []
   },
   "source": [
    "\n",
    "# Practice Cell\n",
    "Nothing in the cell below will be graded. It contains examples of functions and methods you will need for the assignment. Feel free to experiment here as much as you like."
   ]
  },
  {
   "cell_type": "code",
   "execution_count": null,
   "id": "1721dc4c-047d-4e71-89f2-b741605705e3",
   "metadata": {},
   "outputs": [],
   "source": [
    "#Getting interactive user input\n",
    "response=input(\"Type something: \")\n",
    "print(\"Response:\",response)\n",
    "\n",
    "#Converting strings to numbers\n",
    "int_str=\"40\"\n",
    "int_val=int(int_str)\n",
    "float_str=\"55.66\"\n",
    "float_val=float(float_str)\n",
    "print(\"Strings to numbers\")\n",
    "print(int_str,type(int_str),int_val,type(int_val))\n",
    "print(float_str,type(float_str),float_val,type(float_val))\n",
    "\n",
    "#Converting float back to integer by truncating\n",
    "float_val_2=2.889\n",
    "print(\"Float to int:\",float_val_2,int(float_val_2))\n",
    "\n",
    "#getting the largest of a list of numbers\n",
    "biggest=max(6,1,19,22)\n",
    "print(\"Max function:\",biggest)\n",
    "\n",
    "#breaking a string into pieces\n",
    "text1=\"one,two\"\n",
    "items1=text1.split(\",\") #the seperator is a comma\n",
    "print(\"Splitting strings\")\n",
    "print(items1)\n",
    "#Get list items\n",
    "print(items1[0])\n",
    "print(items1[1])\n",
    "\n",
    "text2=\"Africa Asia Europe\"\n",
    "items2=text2.split() #the separator is any whitespace (space, tab, etc)\n",
    "print(items2)\n",
    "\n",
    "#Creating nicely formatted output\n",
    "template=\"{0} and {1} makes {2}\"\n",
    "format_output=template.format(1,1,1+1)\n",
    "print(\"Formatted input\")\n",
    "print(format_output)\n"
   ]
  },
  {
   "cell_type": "markdown",
   "id": "ab25f129-84a9-4daa-b359-2dd6abaf798b",
   "metadata": {},
   "source": [
    "### End of practice cell\n",
    "---"
   ]
  },
  {
   "cell_type": "markdown",
   "id": "dcd40b5c-2998-45ee-a940-07fd79fb8bd0",
   "metadata": {},
   "source": [
    "# Assignment\n",
    "Creating web pages, graphic design, or game layouts often involves scaling an existing images to the space it is supposed to occupy in the design. Here is a rough lineup of the steps we need to perform:\n",
    "1. Get the width and height of the current image (in pixels).\n",
    "1. Get the desired width of the scaled image (in pixels).\n",
    "1. Calculate the ratio the image needs to be scaled by (greater than 1 means expand, less than one means contract).\n",
    "\n",
    "We often need for the image to occupy a space with a specific \"aspect ratio\", the ratio between the width and height of the image. That means we may need to edit the image by cropping out pixels, or adding pixels. Here are the steps:\n",
    "1. From the scaling factor, we can calculate the height, in pixels, of the scaled image.\n",
    "1. From the aspect ratio we can calculate the desired height, in pixels, of the image.\n",
    "1. **Normally we would compare the actual to the desired number of pixels, but we have not covered comparisons yet...**\n",
    "1. For now, let's do two calculations\n",
    "   1. The number of pixels to add would be the required pixel height minus the scaled pixel height. If the number is less than zero we do not need to add pixels, so we want to report zero. The \"max\" function will let you do this.\n",
    "   1. The number of pixels to remove would be the scaled pixel height minus the required pixel height. If the number is less than zero we do not need to remove pixels, so we want to report zero. \n"
   ]
  },
  {
   "cell_type": "markdown",
   "id": "c9a03913-5fe9-4a8e-bf61-7b3f704e2b9d",
   "metadata": {},
   "source": [
    "### Note\n",
    "Anywhere you see `...fill in...` tells you to finish that statement or section of code"
   ]
  },
  {
   "cell_type": "code",
   "execution_count": null,
   "id": "0ae58cc4-75c5-4012-a142-b516e6c6646d",
   "metadata": {},
   "outputs": [],
   "source": [
    "#\n",
    "# Let's get the data for the first part of the project\n",
    "# Ask the user for the width and height with a commma inbetween\n",
    "# e.g. 1200,3000\n",
    "\n",
    "dimensions=input(...fill in...)\n",
    "#get the width and height into two separate variables, using split,\n",
    "#the [] index notation, and the int function.\n",
    "...fill in...\n",
    "#Ask the user for the desired width (a single number) and store the\n",
    "#response in an integer type variable\n",
    "...fill in...\n",
    "#Calculate the scaling factor and print the result with some formatting\n",
    "#something like \"scale the image by xx.xx\"\n",
    "...fill in...\n",
    "#Ask the user for the desired aspect ratio in the format \"w:h\", as \n",
    "#in \"3:2\" or \"16:9\". (\"9:16\" would be a portrait orientation)\n",
    "...fill in...\n",
    "#Split the response into two numbers.\n",
    "...fill in...\n",
    "#Calculate the desired height in pixels from the width of the \n",
    "#scaled image and the aspect ratio. (There are no fractional pixels).\n",
    "...fill in...\n",
    "#Calculate the actual height in pixels from the height of the original\n",
    "#image and the scaling factor you calculated earlier.\n",
    "#(There are no fractional pixels).\n",
    "...fill in...\n",
    "#Calculate the number of pixels to add and print it (or zero if no\n",
    "#pixels need to be added - make sure your create nicely formatted output)\n",
    "...fill in...\n",
    "#Calculate the number of pixels to remove and print it (or zero if no\n",
    "#pixels need to be removed - make sure your create nicely \n",
    "#formatted output)\n",
    "...fill in...\n"
   ]
  },
  {
   "cell_type": "code",
   "execution_count": null,
   "id": "04f70585-7aac-4eec-9d94-79ca627f040e",
   "metadata": {},
   "outputs": [],
   "source": []
  }
 ],
 "metadata": {
  "kernelspec": {
   "display_name": "Python 3 (ipykernel)",
   "language": "python",
   "name": "python3"
  },
  "language_info": {
   "codemirror_mode": {
    "name": "ipython",
    "version": 3
   },
   "file_extension": ".py",
   "mimetype": "text/x-python",
   "name": "python",
   "nbconvert_exporter": "python",
   "pygments_lexer": "ipython3",
   "version": "3.10.6"
  }
 },
 "nbformat": 4,
 "nbformat_minor": 5
}
