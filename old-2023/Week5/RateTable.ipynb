{
 "cells": [
  {
   "cell_type": "markdown",
   "id": "1178d88f-ca82-45bb-868c-f45bddfd4ce9",
   "metadata": {},
   "source": [
    "# Practice"
   ]
  },
  {
   "cell_type": "code",
   "execution_count": null,
   "id": "3f4c2528-38c8-4fe7-9c97-6403b3a67eef",
   "metadata": {},
   "outputs": [],
   "source": [
    "from math import pi\n",
    "import random\n",
    "\n",
    "format_pi=\"Pi is:{0}, formatted {0:#^25.4}\".format(pi)\n",
    "print(format_pi)\n",
    "l=42\n",
    "print(\"{0} is {0:x} hexadecimal\".format(l))\n",
    "\n",
    "x=random.randint(10,2000)\n",
    "print(x)\n",
    "\n",
    "l=[350,100,400,1000]\n",
    "l.sort()\n",
    "print(l)\n",
    "\n",
    "print('Part 1',end='')\n",
    "print(' Part 2')\n",
    "\n",
    "print(\"A\",\"B\",\"C\")\n",
    "print(\"A\",\"B\",\"C\",sep='')\n",
    "print(\"A\",\"B\",\"C\",sep='+')"
   ]
  },
  {
   "cell_type": "markdown",
   "id": "f69379c8-95c9-47b5-9ad8-d1080d3e28c5",
   "metadata": {},
   "source": [
    "# Assignment\n",
    "\n",
    "You will repeat the \"DataRates\" assignment with a number of important variations:\n",
    "- The service definitions will be read from the file \"services.txt\", one line at a time\n",
    "    - each line contains a name and a value, separated by a comma\n",
    "- You will store all service definitions in a dictionary\n",
    "- You will ask the user for the number of file sizes to use (but allow only values of 1 to 3)\n",
    "- You will pick file sizes at random\n",
    "    - sizes must fall into  a reasonable range, we will use 50Mbytes to 10000Mbytes (10Gbytes)\n",
    "    - the size range (smallest and largest allowed value) must be stored in a tuple at the start of the script so it can be changed easily\n",
    "- You will output the transfers time formatted as a table\n",
    "    - Transfer times are in minutes using floating point numbers\n",
    "    - Each row is a service type\n",
    "    - Each column is a file size\n",
    "    - The table header row displays the file sizes\n",
    "        - file sizes must be sorted in ascending values\n",
    "        - file sizes must be displayed with a trailing \"M\" for Mbytes\n",
    "        - for files over 1000 Mbytes divide by 1000 and add a trailing \"G\" \n",
    "- You script must loop indefinitely, until the user types \"quit\" instead of a number\n",
    "    - You must read the file only once at the start of the script!\n"
   ]
  },
  {
   "cell_type": "code",
   "execution_count": null,
   "id": "5e99a999-3290-4b94-9cd0-8bf11d0f3951",
   "metadata": {},
   "outputs": [],
   "source": [
    "# import statements go here\n",
    "\n",
    "# Create the tuple that holds the range of file sizes\n",
    "\n",
    "# Create an empty dictionary\n",
    "\n",
    "#open the file\n",
    "\n",
    "#loop over the file, separate each line, and store each definition in the dictionary\n",
    "\n",
    "# close the file\n",
    "\n",
    "# start an indefinite loop for user input\n",
    "\n",
    "# Get user input, validate, take care of exiting on \"quit\"\n",
    "\n",
    "# Create a list of random file sizes, range defined by the tuple at the start, number of files from the user\n",
    "# Store the file sizes in a list\n",
    "# Sort the list\n",
    "\n",
    "# Print a properly formatted header with the file sizes (including conversion to GBytes as needed)\n",
    "# This will require a loop to build the string you print out\n",
    "\n",
    "# Create a loop over the services\n",
    "# Start an output string by setting it to the service name\n",
    "\n",
    "# Create another loop over file sizes\n",
    "# Compute the transfer time; make sure to convert the file size to bits (multiply by 8). Result needs to be in minutes\n",
    "# using floating point numbers\n",
    "# Add the time to the output for each iteration\n"
   ]
  }
 ],
 "metadata": {
  "kernelspec": {
   "display_name": "Python 3 (ipykernel)",
   "language": "python",
   "name": "python3"
  },
  "language_info": {
   "codemirror_mode": {
    "name": "ipython",
    "version": 3
   },
   "file_extension": ".py",
   "mimetype": "text/x-python",
   "name": "python",
   "nbconvert_exporter": "python",
   "pygments_lexer": "ipython3",
   "version": "3.10.6"
  }
 },
 "nbformat": 4,
 "nbformat_minor": 5
}
