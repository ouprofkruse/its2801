{
 "cells": [
  {
   "cell_type": "markdown",
   "id": "5cef9672-c938-4455-aa55-951ec5bf814c",
   "metadata": {},
   "source": [
    "# Assignment\n",
    "You have been given two input files:\n",
    "- \"2801-full.log\" is the file you should test your script with right before submitting your answer\n",
    "- \"2801-sample.log\" is a smaller file suitable for use during development (so you don't have to wait as long between tests)\n",
    "\n",
    "These input files are log files from a server on the Internet. We are looking to tabulate attacks in the \"ssh\" remote login service.\n",
    "You are looking for two types of records in this log file:\n",
    "```\n",
    "Jan 26 21:20:06 pavel sshd[14313]: Failed password for invalid user admin from 91.200.12.111 port 14268 ssh2\n",
    "Jan 27 10:35:20 pavel sshd[14793]: Failed password for root from 89.163.224.14 port 42817 ssh2\n",
    "```\n",
    "Here are the criteria:\n",
    "- You can split the records into \"words\" seperated by white space\n",
    "- All records of interest will have \"sshd\" as the first characters in the 5th word\n",
    "- All records of interest will have \"Failed\" as the 6th word\n",
    "- The 9th word may be \"invalid\"\n",
    "    - in this case the 11th word contains the user name the attacker tried\n",
    "    - the 13th word contains the IP addresd the attack came from\n",
    "- If the 9th word is not \"invalid\"\n",
    "    - in this case the 9th word contains the user name the attacker tried \n",
    "    - the 11th word contains the IP address the attack came from\n",
    "\n"
   ]
  },
  {
   "cell_type": "markdown",
   "id": "ed6bc37a-9d71-4149-bf93-5e4cd1f66019",
   "metadata": {},
   "source": [
    "# Phase 1\n",
    "- In your main script, write the loop to read from the input file, one line at a time\n",
    "    - *Note:* Do not store all lines in a string array, the full log file is pretty large\n",
    "- Write a method that takes the line you read as input, and\n",
    "    - Splits the line\n",
    "    - Examines the \"words\" to identify if this is one of the types of records we care about\n",
    "    - If the answer is yes, extract the user name used, and the IP address\n",
    "    - Return both the IP address and the user name as the return value of the function (you need a struct to do this)\n",
    "    - If the record does not match either of the two types we are looking for, set the user name and IP address to empty strings\n",
    "- Call your method in the main loop\n",
    "- Test this phase of the script by printing the user name and IP address returned, if they are not empty.\n",
    "\n",
    "Feel free to use the \"sample\" file for Phase 1"
   ]
  },
  {
   "cell_type": "markdown",
   "id": "d8038bcb-09f6-493a-80cd-f7806b093e6e",
   "metadata": {},
   "source": [
    "# Final Assignment\n",
    "The ultimate goal is to tabulate:\n",
    "1. The number of attacks observed from each IP address\n",
    "1. The number of times a user name is used in an attack\n",
    "\n",
    "Assuming that you have completed Phase 1, add the following:\n",
    "- Define two dictionaries, one to tabulate IP addresses, and one to tabulate user names\n",
    "- Define a method that takes a dictionay as one argument, with a string as the second argument\n",
    "    - If the string is already in the dictionary as a key, add one to the corresponding value\n",
    "    - If the string is not a key already, add it with a value of 1\n",
    "- In your main loop, after the method call from Phase 1\n",
    "    - If the name is not empty, call your tabulation method with the appropriate dictionay and the name string\n",
    "    - If the IP address is not empty, call your tabulation method with the appropriate dictionay and the IP string\n",
    "- Print a report listing\n",
    "    - All user names used in attacks, with the number of times each one was used\n",
    "    - All IP address that attacks originated from, with the number of attacks each one attempted"
   ]
  },
  {
   "cell_type": "markdown",
   "id": "fb9b9f2e-e852-4ed8-bef0-274faf55364e",
   "metadata": {},
   "source": [
    "# Structure\n",
    "Your solution must have these elements:\n",
    "1. A method that examines a file record and returns name/IP\n",
    "1. 2 dictionaries that tabulate names and IP addresses\n",
    "1. A method that adds a dictionary entry by either incrementing the value for an existing key, or inserting a new key\n",
    "\n",
    "You are supposed to use language constructs we have used in class. If you choose to use a different construct, add a comment explaining why you picked that construct and what it does."
   ]
  },
  {
   "cell_type": "markdown",
   "id": "7fde4278-93d5-4706-83b1-4a65d5e0e68f",
   "metadata": {},
   "source": [
    "# Your Code"
   ]
  },
  {
   "cell_type": "code",
   "execution_count": null,
   "id": "aeb0b756-683e-4390-921c-903c182ac714",
   "metadata": {},
   "outputs": [],
   "source": [
    "//Final Project\n"
   ]
  }
 ],
 "metadata": {
  "kernelspec": {
   "display_name": ".NET (C#)",
   "language": "C#",
   "name": ".net-csharp"
  },
  "language_info": {
   "file_extension": ".cs",
   "mimetype": "text/x-csharp",
   "name": "C#",
   "pygments_lexer": "csharp",
   "version": "11.0"
  }
 },
 "nbformat": 4,
 "nbformat_minor": 5
}
