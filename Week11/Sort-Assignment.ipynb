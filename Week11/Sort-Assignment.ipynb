{
 "cells": [
  {
   "cell_type": "markdown",
   "id": "a4745e1a-19c7-4ab1-886d-b4db52079ab0",
   "metadata": {},
   "source": [
    "# Create, Sort, and Print an array\n",
    "### Notes:"
   ]
  },
  {
   "cell_type": "code",
   "execution_count": 4,
   "id": "00c689dd-5389-40da-865c-35148f0a8de2",
   "metadata": {},
   "outputs": [
    {
     "name": "stdout",
     "output_type": "stream",
     "text": [
      "1 4 13 \n",
      "First Element is: 1\n"
     ]
    }
   ],
   "source": [
    "int[] aa = new int[3];\n",
    "aa[0]=13;\n",
    "aa[1]=1;\n",
    "aa[2]=4;\n",
    "Array.Sort(aa);\n",
    "Console.Write(aa[0] + \" \" + aa[1] + \" \" + aa[2]);\n",
    "Console.WriteLine(\" \");\n",
    "\n",
    "void MyMethod(int[] anArray, string aMessage)\n",
    "{\n",
    "    Console.WriteLine(aMessage + anArray[0]);\n",
    "}\n",
    "\n",
    "MyMethod(aa,\"First Element is: \");\n"
   ]
  },
  {
   "cell_type": "markdown",
   "id": "ce5dcf23-3854-4775-a109-10a5491c0083",
   "metadata": {},
   "source": [
    "# Assignment\n",
    "- Define an integer and initialize it to a number between 11 and 15\n",
    "- Create an integer array using this integer as the length of the array\n",
    "- Loop over all indices in the array (0 to length-1)\n",
    "    - if the index is even, set the array element to 2 * theindex + 1\n",
    "    - if the index is odd, set the array element to - theindex\n",
    "- Define a function that takes two arguments, an integer array and a string. In the function\n",
    "    - Print the message\n",
    "    - Print all elements of the array\n",
    "- Call your function with the array you created, and the message \"Original\"\n",
    "- Sort your array\n",
    "- Call your function again with the sorted array, and the message \"Sorted\"\n",
    "Your output should be similar to this (the numbers will be different):\n",
    "```\n",
    "Original\n",
    "0 -3 4 -9 8 -15 12 -21 16 -27  \n",
    "Sorted\n",
    "-27 -21 -15 -9 -3 0 4 8 12 16\n",
    "```"
   ]
  },
  {
   "cell_type": "code",
   "execution_count": 6,
   "id": "97f20ffc-58a3-42da-94e5-fac25b1aa8e9",
   "metadata": {},
   "outputs": [],
   "source": [
    "// Start the assignment here"
   ]
  }
 ],
 "metadata": {
  "kernelspec": {
   "display_name": ".NET (C#)",
   "language": "C#",
   "name": ".net-csharp"
  },
  "language_info": {
   "file_extension": ".cs",
   "mimetype": "text/x-csharp",
   "name": "C#",
   "pygments_lexer": "csharp",
   "version": "11.0"
  }
 },
 "nbformat": 4,
 "nbformat_minor": 5
}
