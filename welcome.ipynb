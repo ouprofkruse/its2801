{
 "cells": [
  {
   "cell_type": "markdown",
   "id": "efcb0f8b-5f45-4b8e-b6d5-96e66231159a",
   "metadata": {},
   "source": [
    "# Welcome to ITS 2801\n",
    "**Before you do anything else:**\n",
    "- Create a directory called \"work\" at the top of your file system\n",
    "- Copy this notebook to the \"work\" directory\n",
    "- Always work on the copy, **never** on the original\n",
    "---"
   ]
  },
  {
   "cell_type": "markdown",
   "id": "9be02a66-925a-4332-8cf0-78305796ee91",
   "metadata": {},
   "source": [
    "Click anywhere in the cell below, then click the run button (furthest to the right). Make sure you get the output."
   ]
  },
  {
   "cell_type": "code",
   "execution_count": null,
   "id": "4e2e4e15-c1a1-495f-8ffc-fe5e00af8a0c",
   "metadata": {},
   "outputs": [],
   "source": [
    "import platform\n",
    "import datetime\n",
    "#\n",
    "info = platform.uname()\n",
    "print(\"Ready to continue...\")"
   ]
  },
  {
   "cell_type": "markdown",
   "id": "c61bc52d-4dde-429f-a490-3dfa56575364",
   "metadata": {},
   "source": [
    "In the cell below, replace the text between quotes with your name. Then run the cell."
   ]
  },
  {
   "cell_type": "code",
   "execution_count": null,
   "id": "63b4ddd8-a9df-4631-be03-0a656e622a23",
   "metadata": {},
   "outputs": [],
   "source": [
    "# set the user's name\n",
    "myname = \"my-name\"\n",
    "myname = myname.capitalize()"
   ]
  },
  {
   "cell_type": "markdown",
   "id": "2942f63d-329f-443d-a9e9-b1f736d81c9d",
   "metadata": {},
   "source": [
    "In the cell below, replace 0 with your favorite number. Then run the cell."
   ]
  },
  {
   "cell_type": "code",
   "execution_count": null,
   "id": "8266a5d9-c902-49ae-90f8-8ab16e1aa6a8",
   "metadata": {},
   "outputs": [],
   "source": [
    "# set the user's lucky number\n",
    "mynumber = 0\n",
    "mynumber = 3*mynumber"
   ]
  },
  {
   "cell_type": "code",
   "execution_count": null,
   "id": "6c760fdc-e44f-4d4a-871f-4baf418af519",
   "metadata": {},
   "outputs": [],
   "source": [
    "Run the cell below."
   ]
  },
  {
   "cell_type": "code",
   "execution_count": null,
   "id": "c096d18e-f861-4c2c-bfbd-6c91ddf0a55d",
   "metadata": {},
   "outputs": [],
   "source": [
    "# Create the output\n",
    "print(\"Hello\",myname,\"-- your triple lucky number is\",mynumber)\n",
    "print(\"Today is: \",datetime.datetime.now())\n",
    "print(\"You are operating on: \",info.node)\n"
   ]
  },
  {
   "cell_type": "markdown",
   "id": "5acd1a19-c91e-451d-9a51-90b14fd940ef",
   "metadata": {},
   "source": [
    "Finally, use the `File->Save and Export Notebook as... ` option and save this notebook as a PDF. Submit the PDF on Blackboard."
   ]
  }
 ],
 "metadata": {
  "kernelspec": {
   "display_name": "Python 3 (ipykernel)",
   "language": "python",
   "name": "python3"
  },
  "language_info": {
   "codemirror_mode": {
    "name": "ipython",
    "version": 3
   },
   "file_extension": ".py",
   "mimetype": "text/x-python",
   "name": "python",
   "nbconvert_exporter": "python",
   "pygments_lexer": "ipython3",
   "version": "3.10.6"
  }
 },
 "nbformat": 4,
 "nbformat_minor": 5
}
