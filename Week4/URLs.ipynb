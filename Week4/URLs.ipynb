{
 "cells": [
  {
   "cell_type": "markdown",
   "id": "ed6616c3-a4d7-4e6e-bbaf-feb1375a4dbb",
   "metadata": {},
   "source": [
    "# Practice"
   ]
  },
  {
   "cell_type": "code",
   "execution_count": null,
   "id": "b484b1ab-d9ca-4851-916f-8581790c3b44",
   "metadata": {},
   "outputs": [],
   "source": [
    "list_file=open(\"URL-List.txt\",\"rt\")\n",
    "\n",
    "for item in list_file.readlines():\n",
    "    print(item.strip())\n",
    "    \n",
    "list_file.close()"
   ]
  },
  {
   "cell_type": "markdown",
   "id": "1b99674a-4701-4f5e-b42f-a10595cad977",
   "metadata": {},
   "source": [
    "\n",
    "---"
   ]
  },
  {
   "cell_type": "markdown",
   "id": "6324ef40-04e2-4550-97da-3cd4c0b3a71e",
   "metadata": {},
   "source": [
    "# Assignment\n",
    "Make sure the URL-List.txt file is in the same directory as this notebook.\n",
    "### Step 1 - modify the URL-List.txt file\n",
    "- Edit the file in the Jupyter interface\n",
    "- At the end of the file, add one additional URL on a new line\n",
    "    - You can do this by browsing to any web site and copying the URL from the browser address bar\n",
    "### Step 2 - write the script below\n",
    "- Open the URL-List.txt file from the script\n",
    "- Loop over the lines in the file:\n",
    "    - Remove extra white space\n",
    "    - For each line, parse the URL into:\n",
    "        - Schema\n",
    "        - Host\n",
    "        - Path\n",
    "        - Query\n",
    "    - Print the URL and the components; you need to decide on a nice readable way to do this\n",
    "        - Take care to deal with cases where not all components are present"
   ]
  },
  {
   "cell_type": "code",
   "execution_count": 1,
   "id": "30c625a6-1905-42c5-9514-6de6eac5d57e",
   "metadata": {},
   "outputs": [],
   "source": [
    "# Your Assignment\n",
    "\n",
    "# Open the file\n",
    "\n",
    "#Loop over the lines in the file\n",
    "\n",
    "# Inside the loop, parse the URL that has been read\n",
    "# Print the result\n",
    "\n",
    "# Close the file"
   ]
  }
 ],
 "metadata": {
  "kernelspec": {
   "display_name": "Python 3 (ipykernel)",
   "language": "python",
   "name": "python3"
  },
  "language_info": {
   "codemirror_mode": {
    "name": "ipython",
    "version": 3
   },
   "file_extension": ".py",
   "mimetype": "text/x-python",
   "name": "python",
   "nbconvert_exporter": "python",
   "pygments_lexer": "ipython3",
   "version": "3.10.6"
  }
 },
 "nbformat": 4,
 "nbformat_minor": 5
}
