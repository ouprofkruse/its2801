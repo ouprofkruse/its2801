{
 "cells": [
  {
   "cell_type": "markdown",
   "id": "9f45db87-70eb-4ba3-900f-62349cc5d1ba",
   "metadata": {},
   "source": [
    "# RPN Calculator\n",
    "These are basic guidelines, but for the most part you will need to work this project out yourself.\n",
    "Make sure you are in class to take advantage of the demos and discussions there\n",
    "\n",
    "## Phase 1\n",
    "You will need some basic functions for the project. Implement these first, and submit the notebook with these functions under Phase 1 on Blackboard.\n",
    "This is optional but you receive some extra credit and more importantly, I will provide corrections that will hopefully make your final submission better.\n",
    "\n",
    "Start by creating a list with 4 elements (all zero) to represent the stack. Index [0] is the input (bottom) of the stack, index [3] is the top.\n",
    "Create these functions:\n",
    "\n",
    "- A function to display the stack (index [0] at the bottom)\n",
    "- A function to \"drop\" the stack; the bottom entry is deleted, and the other 3 entries are shifted down.\n",
    "- A function to \"swap\"; the bottom two entries are swapped\n",
    "- A function to \"push\" a number on the stack - the top entry is deleted, the bottom 3 entries are shifted up, and the new number is added at the bottom\n",
    "\n",
    "## Phase 2\n",
    "Build the calculator (we will call the stack levels X, Y, Z, T from bottom to top):\n",
    "- You need user input, which can be a number, or one of these commands:\n",
    "   - \"drop\", to drop the stack\n",
    "   - \"swap\", to swap X and Y\n",
    "   - \"+\" to add X and Y\n",
    "   - \"-\" to subtract X from Y\n",
    "   - \"\\*\" to multiply Y by X\n",
    "   - \"/\" to divide Y by X\n",
    "   - \"sqrt\" to replace X by the square root of X\n",
    "   - \"pow\" to compute Y raised to the power X\n",
    "   - \"quit\" to exit the script\n",
    "- You need to write functions that implement each operation.\n",
    "- Make sure you test your script carefully!\n"
   ]
  }
 ],
 "metadata": {
  "kernelspec": {
   "display_name": "Python 3 (ipykernel)",
   "language": "python",
   "name": "python3"
  },
  "language_info": {
   "codemirror_mode": {
    "name": "ipython",
    "version": 3
   },
   "file_extension": ".py",
   "mimetype": "text/x-python",
   "name": "python",
   "nbconvert_exporter": "python",
   "pygments_lexer": "ipython3",
   "version": "3.10.6"
  }
 },
 "nbformat": 4,
 "nbformat_minor": 5
}
