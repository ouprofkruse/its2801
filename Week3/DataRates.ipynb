{
 "cells": [
  {
   "cell_type": "markdown",
   "id": "3a72e3e3-5b19-4b1c-b886-c2cc2433694a",
   "metadata": {},
   "source": [
    "# Practice Sandbox"
   ]
  },
  {
   "cell_type": "code",
   "execution_count": null,
   "id": "7b8c5258-9e82-4921-ac1b-228d7dba7116",
   "metadata": {},
   "outputs": [],
   "source": [
    "items=(\"A\",\"B\",\"C\")\n",
    "for i in range(len(items)):\n",
    "    print(items[i])\n",
    "    \n",
    "sec_time=235\n",
    "if sec_time > 60:\n",
    "    print(int(sec_time/60))\n",
    "    print(sec_time%60)\n",
    "else:\n",
    "    print(sec_time)\n",
    "    \n",
    "all_times=[]\n",
    "all_times.append(sec_time)\n",
    "print(all_times)"
   ]
  },
  {
   "cell_type": "markdown",
   "id": "9ffb93c3-a506-4105-9f77-a63279ae65a9",
   "metadata": {},
   "source": [
    "# Data Transfer Time Calculations\n",
    "This script will loop over a few internet service speeds and compute the time\n",
    "required to transfer a certain amount of data at that speed.\n",
    "You need to figure out a few things:\n",
    "- Compute the speed (file size over speed, making sure to convert the size from bytes to bits)\n",
    "- Loop over the services\n",
    "- Use if statements to convert the transfer time to hours, minutes, and seconds as needed\n"
   ]
  },
  {
   "cell_type": "code",
   "execution_count": null,
   "id": "e0fc5292-3b05-416c-9f28-101955d31a76",
   "metadata": {},
   "outputs": [],
   "source": [
    "\n",
    "#These are the labels for the Internet services we evaluate\n",
    "service_name=(\"DSL\",\"Cable\",\"Gigabit\")\n",
    "#Each service has its datarate in Mbits/sec\n",
    "service_rate=(50,500,1000)\n",
    "#We will compute data transfer times for one file size in Megabytes\n",
    "file_size=25000\n",
    "#Convert the file size to Megabits - there are 8 bits in a byte\n",
    "file_size_bits=\n",
    "\n",
    "#We need a variable to hold the results of or calculations, I suggest an empty list that we can add to\n",
    "transfer_time=[]\n",
    "\n",
    "#Start a for-loop here. You cannot assume that the number of services will always be 3, so design a loop that will work \n",
    "#for any number of services.\n",
    "\n",
    "for\n",
    "#Each time through the loop, calculate the time needed to transfer the file (file size divided by speed)\n",
    "#Append that number to the transfer_time list\n",
    "\n",
    "#------ end of the first loop\n",
    "\n",
    "#Start another loop over the services (yes, we could do this all in one loop, but this keeps things more organized)\n",
    "for\n",
    "#Each time through the loop, convert the transfer time, which we computed in seconds, into hours, minutes, and seconds\n",
    "#Print the result showing the service name and the converted transfer time\n"
   ]
  }
 ],
 "metadata": {
  "kernelspec": {
   "display_name": "Python 3 (ipykernel)",
   "language": "python",
   "name": "python3"
  },
  "language_info": {
   "codemirror_mode": {
    "name": "ipython",
    "version": 3
   },
   "file_extension": ".py",
   "mimetype": "text/x-python",
   "name": "python",
   "nbconvert_exporter": "python",
   "pygments_lexer": "ipython3",
   "version": "3.10.6"
  }
 },
 "nbformat": 4,
 "nbformat_minor": 5
}
